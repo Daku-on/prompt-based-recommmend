{
  "cells": [
    {
      "cell_type": "markdown",
      "metadata": {},
      "source": [
        "# レコメンドデモノートブック"
      ]
    },
    {
      "cell_type": "code",
      "execution_count": null,
      "metadata": {},
      "outputs": [],
      "source": [
        "import json\n",
        "from pathlib import Path\n",
        "import random\n",
        "from concurrent.futures import ThreadPoolExecutor, as_completed\n"
      ]
    },
    {
      "cell_type": "code",
      "execution_count": null,
      "metadata": {},
      "outputs": [],
      "source": [
        "DATA_PATH = Path('data/candidates.json')\n",
        "with open(DATA_PATH, 'r', encoding='utf-8') as f:\n",
        "    candidates = json.load(f)\n",
        "# スコア降順でソート\n",
        "candidates = sorted(candidates, key=lambda x: x['score'], reverse=True)\n",
        "candidates[:3]"
      ]
    },
    {
      "cell_type": "code",
      "execution_count": null,
      "metadata": {},
      "outputs": [],
      "source": [
        "def score_candidate(user, candidate):\n",
        "    random.seed(hash(f\"{user['id']}-{candidate['id']}\"))\n",
        "    return random.uniform(0, 10)\n"
      ]
    },
    {
      "cell_type": "code",
      "execution_count": null,
      "metadata": {},
      "outputs": [],
      "source": [
        "DEFAULT_THRESHOLD = 7.5\n",
        "DEFAULT_TOP_K = 3\n",
        "INJECTION_PROBABILITY = 0.1\n\n",
        "def recommend(user, top_k=DEFAULT_TOP_K, threshold=DEFAULT_THRESHOLD):\n",
        "    cand_list = list(candidates)  # コピー\n",
        "    low_ranked = cand_list[len(cand_list)//2:]\n",
        "    for c in low_ranked:\n",
        "        if random.random() < INJECTION_PROBABILITY:\n",
        "            idx = random.randint(0, len(cand_list)-1)\n",
        "            cand_list.insert(idx, c)\n",
        "    results = []\n",
        "    with ThreadPoolExecutor() as executor:\n",
        "        future_map = {executor.submit(score_candidate, user, c): c for c in cand_list}\n",
        "        for future in as_completed(future_map):\n",
        "            c = future_map[future]\n",
        "            score = future.result()\n",
        "            if score >= threshold:\n",
        "                results.append({'candidate': c, 'score': score})\n",
        "            if len(results) >= top_k:\n",
        "                break\n",
        "    results.sort(key=lambda x: x['score'], reverse=True)\n",
        "    return results\n"
      ]
    },
    {
      "cell_type": "code",
      "execution_count": null,
      "metadata": {},
      "outputs": [],
      "source": [
        "recommend({'id': 1})"
      ]
    }
  ],
  "metadata": {
    "language_info": {
      "name": "python",
      "pygments_lexer": "ipython3"
    }
  },
  "nbformat": 4,
  "nbformat_minor": 5
}
